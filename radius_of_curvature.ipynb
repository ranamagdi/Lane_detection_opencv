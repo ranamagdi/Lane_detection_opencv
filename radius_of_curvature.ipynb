{
  "nbformat": 4,
  "nbformat_minor": 0,
  "metadata": {
    "colab": {
      "name": "radius of curvature.ipynb",
      "provenance": []
    },
    "kernelspec": {
      "name": "python3",
      "display_name": "Python 3"
    },
    "language_info": {
      "name": "python"
    }
  },
  "cells": [
    {
      "cell_type": "code",
      "execution_count": null,
      "metadata": {
        "id": "7jfe2QWiUnTJ"
      },
      "outputs": [],
      "source": [
        "def measureCurvature(y_eval, leftx, rightx):\n",
        "    ploty = np.linspace(0, 719, num=720)# to cover same y-range as image\n",
        "    # Define conversions in x and y from pixels space to meters\n",
        "    ym_per_pix = 30/720 # from pixel to meters in y-axis\n",
        "    xm_per_pix = 3.7/(640)# from pixel to meters in x-axis\n",
        "    #left lane function\n",
        "    left_fit_cr = np.polyfit(ym_per_pix * ploty, xm_per_pix * leftx, 2)\n",
        "    #right lane function\n",
        "    right_fit_cr = np.polyfit(ym_per_pix * ploty, xm_per_pix * rightx, 2)\n",
        "    y_eval = ym_per_pix * y_eval\n",
        "    #curvature of left lane\n",
        "    left_curverad = np.power((1 + np.power(2 * left_fit_cr[0] * y_eval + left_fit_cr[1],2)),3/2) / np.abs(2 * left_fit_cr[0])\n",
        "    #curvature of right lane\n",
        "    right_curverad = (np.power((1 + np.power(2 * right_fit_cr[0] * y_eval + right_fit_cr[1], 2)), 3 / 2)/ np.abs(2 * right_fit_cr[0]) )  \n",
        "    return left_curverad, right_curverad"
      ]
    }
  ]
}