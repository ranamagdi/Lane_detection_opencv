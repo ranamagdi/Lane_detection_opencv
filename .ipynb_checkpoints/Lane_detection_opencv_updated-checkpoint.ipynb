{
 "cells": [
  {
   "cell_type": "markdown",
   "metadata": {},
   "source": [
    "# Import packages"
   ]
  },
  {
   "cell_type": "code",
   "execution_count": 2,
   "metadata": {},
   "outputs": [],
   "source": [
    "import cv2\n",
    "import numpy as np\n",
    "import matplotlib.pyplot as plt\n",
    "import matplotlib.image as mpimg\n",
    "import glob\n",
    "import os\n",
    "import pickle #use it to save the calibration\n",
    "import re #Regular expression operations\n",
    "import math\n",
    "\n",
    "%matplotlib inline"
   ]
  },
  {
   "cell_type": "markdown",
   "metadata": {},
   "source": [
    "# Some usefull functions"
   ]
  },
  {
   "cell_type": "code",
   "execution_count": 39,
   "metadata": {},
   "outputs": [],
   "source": [
    "def tryint(s):\n",
    "    try:\n",
    "        return int(s)\n",
    "    except:\n",
    "        return s\n",
    "    \n",
    "#This function to turn a string into a list of string and number chunks like:\"z23a\" -> [\"z\", 23, \"a\"]    \n",
    "def alphanum_key(s):\n",
    "\n",
    "    return [tryint(c) for c in re.split('([0-9]+)', s)]\n",
    "\n",
    "#This function to Sort the given list\n",
    "def sort_nicely(l):\n",
    "    \n",
    "    l.sort(key=alphanum_key)\n",
    "    \n",
    "def plot_images(data, layout='row', cols=2, figsize=(20, 12)):\n",
    "    '''\n",
    "   This function for plotting images\n",
    "    :parameter data [(ndarray, string)]: List of data to display, [(image, title)]\n",
    "    :parameter layout (string): Layout, row-wise or column-wise\n",
    "    :parameter cols (number): Number of columns per row\n",
    "    :parameter figsize (number, number): Tuple indicating figure size\n",
    "    '''\n",
    "    rows = math.ceil(len(data) / cols)\n",
    "    f, ax = plt.subplots(figsize=figsize)\n",
    "    if layout == 'row':\n",
    "        for idx, d in enumerate(data):\n",
    "            img, title = d\n",
    "\n",
    "            plt.subplot(rows, cols, idx+1)\n",
    "            plt.title(title, fontsize=20)\n",
    "            plt.axis('off')\n",
    "            if len(img.shape) == 2:\n",
    "                plt.imshow(img, cmap='gray')\n",
    "                \n",
    "            elif len(img.shape) == 3:\n",
    "                plt.imshow(img)\n",
    "                \n",
    "    elif layout == 'col':\n",
    "        counter = 0\n",
    "        for r in range(rows):\n",
    "            for c in range(cols):\n",
    "                img, title = data[r + rows*c]\n",
    "                nb_channels = len(img.shape)\n",
    "                \n",
    "                plt.subplot(rows, cols, counter+1)\n",
    "                plt.title(title, fontsize=20)\n",
    "                plt.axis('off')\n",
    "                if len(img.shape) == 2:\n",
    "                    plt.imshow(img, cmap='gray')\n",
    "                \n",
    "                elif len(img.shape) == 3:\n",
    "                    plt.imshow(img)\n",
    "                    counter += 1\n",
    "  \n",
    "    return ax    \n",
    "    \n",
    "\n",
    "\n"
   ]
  },
  {
   "cell_type": "markdown",
   "metadata": {},
   "source": [
    "\n",
    "# Get the test path"
   ]
  },
  {
   "cell_type": "code",
   "execution_count": 40,
   "metadata": {},
   "outputs": [],
   "source": [
    "test_img_paths = glob.glob('Project_data/test_images/test*.jpg')\n",
    "sort_nicely(test_img_paths)"
   ]
  },
  {
   "cell_type": "markdown",
   "metadata": {},
   "source": [
    "# Get capture video frames "
   ]
  },
  {
   "cell_type": "code",
   "execution_count": 41,
   "metadata": {},
   "outputs": [],
   "source": [
    "  '''\n",
    "    This function that captures and stores video frames\n",
    "    :param video_path (string): Video path\n",
    "    :param frames_dir (string): Frames directory\n",
    "    '''\n",
    "#Note: this function add it to test more in the \"challenge_video.mp4\"\n",
    "def capture_frames(video_path, frames_dir):\n",
    "  \n",
    "    cap = cv2.VideoCapture(video_path)\n",
    "\n",
    "    print('Starting frame capture...')\n",
    "    \n",
    "    count = 0\n",
    "    success = True\n",
    "    while success:\n",
    "        success, frame = cap.read()\n",
    "        cv2.imwrite(frames_dir + 'frame{:02}.jpg'.format(count), frame)\n",
    "        count += 1\n",
    "\n",
    "    print('Completed!')\n",
    "    \n",
    "video1 = glob.glob('video_frames/frame*.jpg')\n",
    "sort_nicely(video1)\n",
    "\n",
    "video2 = glob.glob('video_frames_1/frame*.jpg')\n",
    "sort_nicely(video2)\n",
    "\n",
    "# List of all demos to visualise(test images from 0-7)\n",
    "plot_demo = [1, 2, 3, 4, 5, 6, 7, 8]\n",
    "\n",
    "    \n",
    "\n",
    "    "
   ]
  },
  {
   "cell_type": "markdown",
   "metadata": {},
   "source": [
    "# 1. Camera Calibration & Distortion correction\n",
    "In the \"Lane_detection_opencv\" notebook we didn't make this step and we get output fail to detect curved lanes accurately, and was not robust to obstructions and shadows so we cann't measure the curve in accurate direction.So we read about this step and why we need it! and we read that the Camera lenses distort incoming light to focus it on the camera sensor. Although this is very useful in allowing us to capture images of our environment, they often end up distorting light slightly inaccurately. This can result in inaccurate measurements in computer vision applications. so , we need to correct this to get more improvement.so how we can do this?..you can calibrate your image against a known object, and generate a distortion model which accounts for lens distortions. This object is often an asymmetric checkerboard.The steps to do that: We begin by converting the image to grayscale, then applying the cv2.findChessboardCorners() function. We already know that this chessboard is a 2 dimensional object with exclusively straight lines, so we can apply some transformations to the detected corners to align them properly. I used the cv2.CalibrateCamera() to get the distortion coefficients and the camera matrix. The camera has been calibrated!You can then use cv2.undistort() to correct the rest of your input data."
   ]
  },
  {
   "cell_type": "code",
   "execution_count": 42,
   "metadata": {},
   "outputs": [
    {
     "name": "stdout",
     "output_type": "stream",
     "text": [
      "Loaded the saved camera calibration matrix & dist coefficients!\n"
     ]
    }
   ],
   "source": [
    "\n",
    "def calibrate_camera():\n",
    "    '''\n",
    "    Computes the camera calibration matrix and distortion coefficients\n",
    "    :return: Camera calibration matrix and distortion coefficients\n",
    "    '''\n",
    "    \n",
    "    imgpaths = glob.glob('Project_data/camera_cal/calibration*.jpg')\n",
    "    sort_nicely(imgpaths)\n",
    "    \n",
    "    # View a sample calibration image\n",
    "    %matplotlib inline\n",
    "    \n",
    "    image = cv2.imread(imgpaths[0])\n",
    "    imshape = image.shape[:2] # gets only the (height, width) to be used in the cv2.calibrateCamera()\n",
    "    \n",
    "    plt.imshow(image)\n",
    "    plt.show()\n",
    "    print('Image shape: {}'.format(image.shape))\n",
    "\n",
    "    %matplotlib qt\n",
    "    print()\n",
    "    print('Calibrating the camera...')\n",
    "    print()\n",
    "    objpoints = []\n",
    "    imgpoints = []\n",
    "\n",
    "    nx = 9 # Number of inside corners on each row of the chessboard\n",
    "    ny = 6 # Number of inside corners on each column of the chessboard\n",
    "\n",
    "    # Prepare object points, like (0,0,0), (1,0,0), (2,0,0) ....,(6,5,0)\n",
    "    objp = np.zeros([ny*nx, 3], dtype=np.float32)\n",
    "    objp[:,:2] = np.mgrid[0:nx, 0:ny].T.reshape(-1, 2)\n",
    "\n",
    "    # Iterate over each calibration image and determine the objpoints and imgpoints\n",
    "    for idx, imgpath in enumerate(imgpaths):\n",
    "        img = cv2.imread(imgpath)\n",
    "        gray = cv2.cvtColor(img, cv2.COLOR_BGR2GRAY)\n",
    "\n",
    "        ret, corners = cv2.findChessboardCorners(gray, (nx, ny), None)\n",
    "        if ret:\n",
    "            img = cv2.drawChessboardCorners(img, (nx, ny), corners, ret)\n",
    "\n",
    "            imgpoints.append(corners)\n",
    "            objpoints.append(objp)\n",
    "\n",
    "            cv2.imshow('img', img)\n",
    "            cv2.waitKey(500)\n",
    "\n",
    "    ret, mtx, dist, rvecs, tvecs = cv2.calibrateCamera(objpoints, imgpoints, imshape[::-1], None, None)\n",
    "   \n",
    "    print('Calibration complete!')\n",
    "    cv2.destroyAllWindows()\n",
    "    return mtx, dist\n",
    "# Note: the calibration process only needs to be run once in the absense of the pickled file\n",
    "# containing the calculated aforementioned params\n",
    "if os.path.exists('camera_calib.p'):\n",
    "    with open('camera_calib.p', mode='rb') as f:\n",
    "        data = pickle.load(f)\n",
    "        mtx, dist = data['mtx'], data['dist']\n",
    "        print('Loaded the saved camera calibration matrix & dist coefficients!')\n",
    "else:\n",
    "    mtx, dist = calibrate_camera()\n",
    "    with open('camera_calib.p', mode='wb') as f:\n",
    "        pickle.dump({'mtx': mtx, 'dist': dist}, f)\n",
    "\n",
    "def undistort(img, mtx, dist):\n",
    "    '''\n",
    "    Undistorts an image\n",
    "    :param img (ndarray): Image, represented an a numpy array\n",
    "    :param mtx: Camera calibration matrix\n",
    "    :param dist: Distortion coeff's\n",
    "    :return : Undistorted image\n",
    "    '''\n",
    "    \n",
    "    undistort = cv2.undistort(img, mtx, dist, None, mtx)\n",
    "    return undistort"
   ]
  },
  {
   "cell_type": "markdown",
   "metadata": {},
   "source": [
    "# 1.1 Demo"
   ]
  },
  {
   "cell_type": "code",
   "execution_count": 43,
   "metadata": {},
   "outputs": [],
   "source": [
    "# Undistort a sample camera calibration image and a sample test image\n",
    "\n",
    "if 1 in plot_demo:\n",
    "    ccimg = cv2.imread('Project_data/camera_cal/calibration1.jpg')\n",
    "    ccimg_undist = undistort(ccimg, mtx, dist)\n",
    "\n",
    "    plot_images([\n",
    "       (ccimg, 'Original Image'),\n",
    "       (ccimg_undist, 'Undistorted Image')\n",
    "    ])\n",
    "    \n",
    "    img_orig = mpimg.imread(test_img_paths[2])\n",
    "    img = undistort(img_orig, mtx, dist)\n",
    "    \n",
    "    plot_images([\n",
    "        (img_orig, 'Original Image'),\n",
    "        (img, 'Undistorted Image')\n",
    "    ])"
   ]
  },
  {
   "cell_type": "code",
   "execution_count": null,
   "metadata": {},
   "outputs": [],
   "source": []
  }
 ],
 "metadata": {
  "kernelspec": {
   "display_name": "Python 3",
   "language": "python",
   "name": "python3"
  },
  "language_info": {
   "codemirror_mode": {
    "name": "ipython",
    "version": 3
   },
   "file_extension": ".py",
   "mimetype": "text/x-python",
   "name": "python",
   "nbconvert_exporter": "python",
   "pygments_lexer": "ipython3",
   "version": "3.8.5"
  }
 },
 "nbformat": 4,
 "nbformat_minor": 4
}
